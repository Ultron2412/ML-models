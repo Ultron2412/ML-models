{
 "cells": [
  {
   "cell_type": "code",
   "execution_count": 1,
   "metadata": {
    "collapsed": true
   },
   "outputs": [],
   "source": [
    "# Data handling and processing\n",
    "import pandas as pd\n",
    "import numpy as np"
   ]
  },
  {
   "cell_type": "code",
   "execution_count": 2,
   "metadata": {
    "collapsed": true
   },
   "outputs": [],
   "source": [
    "# Data visualisation & images\n",
    "import matplotlib.pyplot as plt\n",
    "import seaborn as sns\n",
    "from IPython.display import Image"
   ]
  },
  {
   "cell_type": "code",
   "execution_count": 3,
   "metadata": {
    "collapsed": true
   },
   "outputs": [],
   "source": [
    "# Pipeline and machine learning algorithms\n",
    "from sklearn.preprocessing import StandardScaler\n",
    "from sklearn.pipeline import Pipeline\n",
    "from sklearn.neighbors import KNeighborsClassifier\n",
    "from sklearn.linear_model import LogisticRegression\n",
    "from sklearn.ensemble import RandomForestClassifier\n",
    "from sklearn.svm import SVC\n",
    "from sklearn.tree import DecisionTreeClassifier"
   ]
  },
  {
   "cell_type": "code",
   "execution_count": 4,
   "metadata": {
    "collapsed": true
   },
   "outputs": [],
   "source": [
    "# Model evaluation and fine-tuning \n",
    "from sklearn.model_selection import cross_val_score\n",
    "from sklearn.model_selection import RandomizedSearchCV\n",
    "from scipy.stats import randint as sp_randint\n",
    "from time import time\n",
    "from sklearn.model_selection import cross_val_predict\n",
    "from sklearn.metrics import confusion_matrix\n",
    "from sklearn.metrics import precision_score, recall_score\n",
    "from sklearn.metrics import f1_score\n",
    "from sklearn.metrics import precision_recall_curve\n",
    "from sklearn.metrics import roc_curve\n",
    "from sklearn.metrics import roc_auc_score"
   ]
  },
  {
   "cell_type": "code",
   "execution_count": 5,
   "metadata": {
    "collapsed": true
   },
   "outputs": [],
   "source": [
    "train = pd.read_csv('train2.csv')\n",
    "test = pd.read_csv('test2.csv')"
   ]
  },
  {
   "cell_type": "markdown",
   "metadata": {},
   "source": [
    "## EDA with visuals"
   ]
  },
  {
   "cell_type": "code",
   "execution_count": 6,
   "metadata": {},
   "outputs": [
    {
     "data": {
      "text/html": [
       "<div>\n",
       "<style>\n",
       "    .dataframe thead tr:only-child th {\n",
       "        text-align: right;\n",
       "    }\n",
       "\n",
       "    .dataframe thead th {\n",
       "        text-align: left;\n",
       "    }\n",
       "\n",
       "    .dataframe tbody tr th {\n",
       "        vertical-align: top;\n",
       "    }\n",
       "</style>\n",
       "<table border=\"1\" class=\"dataframe\">\n",
       "  <thead>\n",
       "    <tr style=\"text-align: right;\">\n",
       "      <th></th>\n",
       "      <th>id</th>\n",
       "      <th>program_id</th>\n",
       "      <th>program_type</th>\n",
       "      <th>program_duration</th>\n",
       "      <th>test_id</th>\n",
       "      <th>test_type</th>\n",
       "      <th>difficulty_level</th>\n",
       "      <th>trainee_id</th>\n",
       "      <th>gender</th>\n",
       "      <th>education</th>\n",
       "      <th>city_tier</th>\n",
       "      <th>age</th>\n",
       "      <th>total_programs_enrolled</th>\n",
       "      <th>is_handicapped</th>\n",
       "      <th>trainee_engagement_rating</th>\n",
       "      <th>is_pass</th>\n",
       "    </tr>\n",
       "  </thead>\n",
       "  <tbody>\n",
       "    <tr>\n",
       "      <th>0</th>\n",
       "      <td>9389_150</td>\n",
       "      <td>Y_1</td>\n",
       "      <td>Y</td>\n",
       "      <td>136</td>\n",
       "      <td>150</td>\n",
       "      <td>offline</td>\n",
       "      <td>intermediate</td>\n",
       "      <td>9389</td>\n",
       "      <td>M</td>\n",
       "      <td>Matriculation</td>\n",
       "      <td>3</td>\n",
       "      <td>24.0</td>\n",
       "      <td>5</td>\n",
       "      <td>N</td>\n",
       "      <td>1.0</td>\n",
       "      <td>0</td>\n",
       "    </tr>\n",
       "    <tr>\n",
       "      <th>1</th>\n",
       "      <td>16523_44</td>\n",
       "      <td>T_1</td>\n",
       "      <td>T</td>\n",
       "      <td>131</td>\n",
       "      <td>44</td>\n",
       "      <td>offline</td>\n",
       "      <td>easy</td>\n",
       "      <td>16523</td>\n",
       "      <td>F</td>\n",
       "      <td>High School Diploma</td>\n",
       "      <td>4</td>\n",
       "      <td>26.0</td>\n",
       "      <td>2</td>\n",
       "      <td>N</td>\n",
       "      <td>3.0</td>\n",
       "      <td>1</td>\n",
       "    </tr>\n",
       "    <tr>\n",
       "      <th>2</th>\n",
       "      <td>13987_178</td>\n",
       "      <td>Z_2</td>\n",
       "      <td>Z</td>\n",
       "      <td>120</td>\n",
       "      <td>178</td>\n",
       "      <td>online</td>\n",
       "      <td>easy</td>\n",
       "      <td>13987</td>\n",
       "      <td>M</td>\n",
       "      <td>Matriculation</td>\n",
       "      <td>1</td>\n",
       "      <td>40.0</td>\n",
       "      <td>1</td>\n",
       "      <td>N</td>\n",
       "      <td>2.0</td>\n",
       "      <td>1</td>\n",
       "    </tr>\n",
       "    <tr>\n",
       "      <th>3</th>\n",
       "      <td>13158_32</td>\n",
       "      <td>T_2</td>\n",
       "      <td>T</td>\n",
       "      <td>117</td>\n",
       "      <td>32</td>\n",
       "      <td>offline</td>\n",
       "      <td>easy</td>\n",
       "      <td>13158</td>\n",
       "      <td>F</td>\n",
       "      <td>Matriculation</td>\n",
       "      <td>3</td>\n",
       "      <td>NaN</td>\n",
       "      <td>4</td>\n",
       "      <td>N</td>\n",
       "      <td>1.0</td>\n",
       "      <td>1</td>\n",
       "    </tr>\n",
       "    <tr>\n",
       "      <th>4</th>\n",
       "      <td>10591_84</td>\n",
       "      <td>V_3</td>\n",
       "      <td>V</td>\n",
       "      <td>131</td>\n",
       "      <td>84</td>\n",
       "      <td>offline</td>\n",
       "      <td>intermediate</td>\n",
       "      <td>10591</td>\n",
       "      <td>F</td>\n",
       "      <td>High School Diploma</td>\n",
       "      <td>1</td>\n",
       "      <td>42.0</td>\n",
       "      <td>2</td>\n",
       "      <td>N</td>\n",
       "      <td>4.0</td>\n",
       "      <td>1</td>\n",
       "    </tr>\n",
       "  </tbody>\n",
       "</table>\n",
       "</div>"
      ],
      "text/plain": [
       "          id program_id program_type  program_duration  test_id test_type  \\\n",
       "0   9389_150        Y_1            Y               136      150   offline   \n",
       "1   16523_44        T_1            T               131       44   offline   \n",
       "2  13987_178        Z_2            Z               120      178    online   \n",
       "3   13158_32        T_2            T               117       32   offline   \n",
       "4   10591_84        V_3            V               131       84   offline   \n",
       "\n",
       "  difficulty_level  trainee_id gender            education  city_tier   age  \\\n",
       "0     intermediate        9389      M        Matriculation          3  24.0   \n",
       "1             easy       16523      F  High School Diploma          4  26.0   \n",
       "2             easy       13987      M        Matriculation          1  40.0   \n",
       "3             easy       13158      F        Matriculation          3   NaN   \n",
       "4     intermediate       10591      F  High School Diploma          1  42.0   \n",
       "\n",
       "   total_programs_enrolled is_handicapped  trainee_engagement_rating  is_pass  \n",
       "0                        5              N                        1.0        0  \n",
       "1                        2              N                        3.0        1  \n",
       "2                        1              N                        2.0        1  \n",
       "3                        4              N                        1.0        1  \n",
       "4                        2              N                        4.0        1  "
      ]
     },
     "execution_count": 6,
     "metadata": {},
     "output_type": "execute_result"
    }
   ],
   "source": [
    "train.head()"
   ]
  },
  {
   "cell_type": "code",
   "execution_count": 7,
   "metadata": {},
   "outputs": [
    {
     "name": "stdout",
     "output_type": "stream",
     "text": [
      "(73147, 16)\n"
     ]
    }
   ],
   "source": [
    "print(train.shape)"
   ]
  },
  {
   "cell_type": "code",
   "execution_count": 8,
   "metadata": {},
   "outputs": [
    {
     "name": "stdout",
     "output_type": "stream",
     "text": [
      "(31349, 15)\n"
     ]
    }
   ],
   "source": [
    "print(test.shape)"
   ]
  },
  {
   "cell_type": "code",
   "execution_count": 9,
   "metadata": {},
   "outputs": [
    {
     "name": "stdout",
     "output_type": "stream",
     "text": [
      "<class 'pandas.core.frame.DataFrame'>\n",
      "RangeIndex: 73147 entries, 0 to 73146\n",
      "Data columns (total 16 columns):\n",
      "id                           73147 non-null object\n",
      "program_id                   73147 non-null object\n",
      "program_type                 73147 non-null object\n",
      "program_duration             73147 non-null int64\n",
      "test_id                      73147 non-null int64\n",
      "test_type                    73147 non-null object\n",
      "difficulty_level             73147 non-null object\n",
      "trainee_id                   73147 non-null int64\n",
      "gender                       73147 non-null object\n",
      "education                    73147 non-null object\n",
      "city_tier                    73147 non-null int64\n",
      "age                          45418 non-null float64\n",
      "total_programs_enrolled      73147 non-null int64\n",
      "is_handicapped               73147 non-null object\n",
      "trainee_engagement_rating    73070 non-null float64\n",
      "is_pass                      73147 non-null int64\n",
      "dtypes: float64(2), int64(6), object(8)\n",
      "memory usage: 8.9+ MB\n",
      "None\n"
     ]
    }
   ],
   "source": [
    "print(train.info())"
   ]
  },
  {
   "cell_type": "markdown",
   "metadata": {},
   "source": [
    "### Variable Description\n",
    "\n",
    "|Variable\t|Description|\n",
    "|--|--|\n",
    " |id\t| Unique ID|\n",
    " |program_id\t| ID for program\n",
    " |program_type\t| Type of program|\n",
    " |program_duration|\t Program duration in days|\n",
    " |test_id|\t test ID|\n",
    " |test_type|\t Type of test (offline/online)|\n",
    " |difficulty_level|\t Difficulty level of test|\n",
    " |trainee_id\t| ID for trainee|\n",
    " |gender\t| Gender of trainee|\n",
    " |education|\t Education Level of trainee|\n",
    " |city_tier\t| Tier of city of residence for  trainee|\n",
    " |age\t| Age of trainee|\n",
    " |total_programs_enrolled\t| Total Programs Enrolled by trainee|\n",
    " |is_handicapped|\t Does trainee suffer from a disability?|\n",
    " |trainee_engagement_rating|\tInstructer/teaching assistant provided trainee engagement rating for the course|\n",
    " |is_pass|\t 0 - test failed, 1 -  test passed|"
   ]
  },
  {
   "cell_type": "code",
   "execution_count": 10,
   "metadata": {},
   "outputs": [
    {
     "data": {
      "text/html": [
       "<div>\n",
       "<style>\n",
       "    .dataframe thead tr:only-child th {\n",
       "        text-align: right;\n",
       "    }\n",
       "\n",
       "    .dataframe thead th {\n",
       "        text-align: left;\n",
       "    }\n",
       "\n",
       "    .dataframe tbody tr th {\n",
       "        vertical-align: top;\n",
       "    }\n",
       "</style>\n",
       "<table border=\"1\" class=\"dataframe\">\n",
       "  <thead>\n",
       "    <tr style=\"text-align: right;\">\n",
       "      <th></th>\n",
       "      <th>program_duration</th>\n",
       "      <th>test_id</th>\n",
       "      <th>trainee_id</th>\n",
       "      <th>city_tier</th>\n",
       "      <th>age</th>\n",
       "      <th>total_programs_enrolled</th>\n",
       "      <th>trainee_engagement_rating</th>\n",
       "      <th>is_pass</th>\n",
       "    </tr>\n",
       "  </thead>\n",
       "  <tbody>\n",
       "    <tr>\n",
       "      <th>count</th>\n",
       "      <td>73147.000000</td>\n",
       "      <td>73147.000000</td>\n",
       "      <td>73147.000000</td>\n",
       "      <td>73147.000000</td>\n",
       "      <td>45418.000000</td>\n",
       "      <td>73147.000000</td>\n",
       "      <td>73070.000000</td>\n",
       "      <td>73147.000000</td>\n",
       "    </tr>\n",
       "    <tr>\n",
       "      <th>mean</th>\n",
       "      <td>128.208676</td>\n",
       "      <td>91.079306</td>\n",
       "      <td>9843.079620</td>\n",
       "      <td>2.246845</td>\n",
       "      <td>36.494033</td>\n",
       "      <td>2.583934</td>\n",
       "      <td>2.395634</td>\n",
       "      <td>0.695408</td>\n",
       "    </tr>\n",
       "    <tr>\n",
       "      <th>std</th>\n",
       "      <td>6.889679</td>\n",
       "      <td>51.239048</td>\n",
       "      <td>5703.556093</td>\n",
       "      <td>1.011587</td>\n",
       "      <td>9.041119</td>\n",
       "      <td>1.240816</td>\n",
       "      <td>1.325288</td>\n",
       "      <td>0.460238</td>\n",
       "    </tr>\n",
       "    <tr>\n",
       "      <th>min</th>\n",
       "      <td>117.000000</td>\n",
       "      <td>0.000000</td>\n",
       "      <td>1.000000</td>\n",
       "      <td>1.000000</td>\n",
       "      <td>17.000000</td>\n",
       "      <td>1.000000</td>\n",
       "      <td>1.000000</td>\n",
       "      <td>0.000000</td>\n",
       "    </tr>\n",
       "    <tr>\n",
       "      <th>25%</th>\n",
       "      <td>121.000000</td>\n",
       "      <td>45.000000</td>\n",
       "      <td>5040.000000</td>\n",
       "      <td>1.000000</td>\n",
       "      <td>28.000000</td>\n",
       "      <td>2.000000</td>\n",
       "      <td>1.000000</td>\n",
       "      <td>0.000000</td>\n",
       "    </tr>\n",
       "    <tr>\n",
       "      <th>50%</th>\n",
       "      <td>131.000000</td>\n",
       "      <td>90.000000</td>\n",
       "      <td>9641.000000</td>\n",
       "      <td>2.000000</td>\n",
       "      <td>39.000000</td>\n",
       "      <td>2.000000</td>\n",
       "      <td>2.000000</td>\n",
       "      <td>1.000000</td>\n",
       "    </tr>\n",
       "    <tr>\n",
       "      <th>75%</th>\n",
       "      <td>134.000000</td>\n",
       "      <td>135.000000</td>\n",
       "      <td>14552.000000</td>\n",
       "      <td>3.000000</td>\n",
       "      <td>45.000000</td>\n",
       "      <td>3.000000</td>\n",
       "      <td>4.000000</td>\n",
       "      <td>1.000000</td>\n",
       "    </tr>\n",
       "    <tr>\n",
       "      <th>max</th>\n",
       "      <td>136.000000</td>\n",
       "      <td>187.000000</td>\n",
       "      <td>20098.000000</td>\n",
       "      <td>4.000000</td>\n",
       "      <td>63.000000</td>\n",
       "      <td>14.000000</td>\n",
       "      <td>5.000000</td>\n",
       "      <td>1.000000</td>\n",
       "    </tr>\n",
       "  </tbody>\n",
       "</table>\n",
       "</div>"
      ],
      "text/plain": [
       "       program_duration       test_id    trainee_id     city_tier  \\\n",
       "count      73147.000000  73147.000000  73147.000000  73147.000000   \n",
       "mean         128.208676     91.079306   9843.079620      2.246845   \n",
       "std            6.889679     51.239048   5703.556093      1.011587   \n",
       "min          117.000000      0.000000      1.000000      1.000000   \n",
       "25%          121.000000     45.000000   5040.000000      1.000000   \n",
       "50%          131.000000     90.000000   9641.000000      2.000000   \n",
       "75%          134.000000    135.000000  14552.000000      3.000000   \n",
       "max          136.000000    187.000000  20098.000000      4.000000   \n",
       "\n",
       "                age  total_programs_enrolled  trainee_engagement_rating  \\\n",
       "count  45418.000000             73147.000000               73070.000000   \n",
       "mean      36.494033                 2.583934                   2.395634   \n",
       "std        9.041119                 1.240816                   1.325288   \n",
       "min       17.000000                 1.000000                   1.000000   \n",
       "25%       28.000000                 2.000000                   1.000000   \n",
       "50%       39.000000                 2.000000                   2.000000   \n",
       "75%       45.000000                 3.000000                   4.000000   \n",
       "max       63.000000                14.000000                   5.000000   \n",
       "\n",
       "            is_pass  \n",
       "count  73147.000000  \n",
       "mean       0.695408  \n",
       "std        0.460238  \n",
       "min        0.000000  \n",
       "25%        0.000000  \n",
       "50%        1.000000  \n",
       "75%        1.000000  \n",
       "max        1.000000  "
      ]
     },
     "execution_count": 10,
     "metadata": {},
     "output_type": "execute_result"
    }
   ],
   "source": [
    "train.describe()"
   ]
  },
  {
   "cell_type": "code",
   "execution_count": 11,
   "metadata": {},
   "outputs": [
    {
     "name": "stdout",
     "output_type": "stream",
     "text": [
      "id                               0\n",
      "program_id                       0\n",
      "program_type                     0\n",
      "program_duration                 0\n",
      "test_id                          0\n",
      "test_type                        0\n",
      "difficulty_level                 0\n",
      "trainee_id                       0\n",
      "gender                           0\n",
      "education                        0\n",
      "city_tier                        0\n",
      "age                          27729\n",
      "total_programs_enrolled          0\n",
      "is_handicapped                   0\n",
      "trainee_engagement_rating       77\n",
      "is_pass                          0\n",
      "dtype: int64\n"
     ]
    }
   ],
   "source": [
    "print(train.isnull().sum())"
   ]
  },
  {
   "cell_type": "code",
   "execution_count": 12,
   "metadata": {
    "collapsed": true
   },
   "outputs": [],
   "source": [
    "# print(test.isnull().sum())"
   ]
  },
  {
   "cell_type": "code",
   "execution_count": 13,
   "metadata": {},
   "outputs": [
    {
     "data": {
      "text/plain": [
       "id                           73147\n",
       "program_id                      22\n",
       "program_type                     7\n",
       "program_duration                10\n",
       "test_id                        188\n",
       "test_type                        2\n",
       "difficulty_level                 4\n",
       "trainee_id                   18500\n",
       "gender                           2\n",
       "education                        5\n",
       "city_tier                        4\n",
       "age                             45\n",
       "total_programs_enrolled         13\n",
       "is_handicapped                   2\n",
       "trainee_engagement_rating        5\n",
       "is_pass                          2\n",
       "dtype: int64"
      ]
     },
     "execution_count": 13,
     "metadata": {},
     "output_type": "execute_result"
    }
   ],
   "source": [
    "train.nunique()"
   ]
  },
  {
   "cell_type": "markdown",
   "metadata": {},
   "source": [
    "##### As we can see 'age' and 'trainee_engagement_rating ' contain missing values."
   ]
  },
  {
   "cell_type": "code",
   "execution_count": 14,
   "metadata": {},
   "outputs": [
    {
     "data": {
      "image/png": "[encoded data removed]",
      "text/plain": [
       "<matplotlib.figure.Figure at 0x7f149d740780>"
      ]
     },
     "metadata": {},
     "output_type": "display_data"
    }
   ],
   "source": [
    "fig = plt.figure(figsize = (8,5))\n",
    "sns.heatmap(train.corr(), annot = True)\n",
    "plt.show()"
   ]
  },
  {
   "cell_type": "code",
   "execution_count": 15,
   "metadata": {},
   "outputs": [
    {
     "data": {
      "image/png": "[encoded data removed]",
      "text/plain": [
       "<matplotlib.figure.Figure at 0x7f149d18df98>"
      ]
     },
     "metadata": {},
     "output_type": "display_data"
    },
    {
     "name": "stdout",
     "output_type": "stream",
     "text": [
      "1    50867\n",
      "0    22280\n",
      "Name: is_pass, dtype: int64\n"
     ]
    }
   ],
   "source": [
    "# Plot graph of Survived count and provide this numerically too\n",
    "fig = plt.figure(figsize = (10,5))\n",
    "sns.countplot(x='is_pass', data = train)\n",
    "plt.show()\n",
    "print(train['is_pass'].value_counts())"
   ]
  },
  {
   "cell_type": "code",
   "execution_count": 16,
   "metadata": {
    "collapsed": true
   },
   "outputs": [],
   "source": [
    "train = train.drop(['id','test_id','program_id','trainee_id'], axis=1)"
   ]
  },
  {
   "cell_type": "code",
   "execution_count": 17,
   "metadata": {},
   "outputs": [
    {
     "data": {
      "text/html": [
       "<div>\n",
       "<style>\n",
       "    .dataframe thead tr:only-child th {\n",
       "        text-align: right;\n",
       "    }\n",
       "\n",
       "    .dataframe thead th {\n",
       "        text-align: left;\n",
       "    }\n",
       "\n",
       "    .dataframe tbody tr th {\n",
       "        vertical-align: top;\n",
       "    }\n",
       "</style>\n",
       "<table border=\"1\" class=\"dataframe\">\n",
       "  <thead>\n",
       "    <tr style=\"text-align: right;\">\n",
       "      <th></th>\n",
       "      <th>program_type</th>\n",
       "      <th>program_duration</th>\n",
       "      <th>test_type</th>\n",
       "      <th>difficulty_level</th>\n",
       "      <th>gender</th>\n",
       "      <th>education</th>\n",
       "      <th>city_tier</th>\n",
       "      <th>age</th>\n",
       "      <th>total_programs_enrolled</th>\n",
       "      <th>is_handicapped</th>\n",
       "      <th>trainee_engagement_rating</th>\n",
       "      <th>is_pass</th>\n",
       "    </tr>\n",
       "  </thead>\n",
       "  <tbody>\n",
       "    <tr>\n",
       "      <th>0</th>\n",
       "      <td>Y</td>\n",
       "      <td>136</td>\n",
       "      <td>offline</td>\n",
       "      <td>intermediate</td>\n",
       "      <td>M</td>\n",
       "      <td>Matriculation</td>\n",
       "      <td>3</td>\n",
       "      <td>24.0</td>\n",
       "      <td>5</td>\n",
       "      <td>N</td>\n",
       "      <td>1.0</td>\n",
       "      <td>0</td>\n",
       "    </tr>\n",
       "    <tr>\n",
       "      <th>1</th>\n",
       "      <td>T</td>\n",
       "      <td>131</td>\n",
       "      <td>offline</td>\n",
       "      <td>easy</td>\n",
       "      <td>F</td>\n",
       "      <td>High School Diploma</td>\n",
       "      <td>4</td>\n",
       "      <td>26.0</td>\n",
       "      <td>2</td>\n",
       "      <td>N</td>\n",
       "      <td>3.0</td>\n",
       "      <td>1</td>\n",
       "    </tr>\n",
       "    <tr>\n",
       "      <th>2</th>\n",
       "      <td>Z</td>\n",
       "      <td>120</td>\n",
       "      <td>online</td>\n",
       "      <td>easy</td>\n",
       "      <td>M</td>\n",
       "      <td>Matriculation</td>\n",
       "      <td>1</td>\n",
       "      <td>40.0</td>\n",
       "      <td>1</td>\n",
       "      <td>N</td>\n",
       "      <td>2.0</td>\n",
       "      <td>1</td>\n",
       "    </tr>\n",
       "    <tr>\n",
       "      <th>3</th>\n",
       "      <td>T</td>\n",
       "      <td>117</td>\n",
       "      <td>offline</td>\n",
       "      <td>easy</td>\n",
       "      <td>F</td>\n",
       "      <td>Matriculation</td>\n",
       "      <td>3</td>\n",
       "      <td>NaN</td>\n",
       "      <td>4</td>\n",
       "      <td>N</td>\n",
       "      <td>1.0</td>\n",
       "      <td>1</td>\n",
       "    </tr>\n",
       "    <tr>\n",
       "      <th>4</th>\n",
       "      <td>V</td>\n",
       "      <td>131</td>\n",
       "      <td>offline</td>\n",
       "      <td>intermediate</td>\n",
       "      <td>F</td>\n",
       "      <td>High School Diploma</td>\n",
       "      <td>1</td>\n",
       "      <td>42.0</td>\n",
       "      <td>2</td>\n",
       "      <td>N</td>\n",
       "      <td>4.0</td>\n",
       "      <td>1</td>\n",
       "    </tr>\n",
       "  </tbody>\n",
       "</table>\n",
       "</div>"
      ],
      "text/plain": [
       "  program_type  program_duration test_type difficulty_level gender  \\\n",
       "0            Y               136   offline     intermediate      M   \n",
       "1            T               131   offline             easy      F   \n",
       "2            Z               120    online             easy      M   \n",
       "3            T               117   offline             easy      F   \n",
       "4            V               131   offline     intermediate      F   \n",
       "\n",
       "             education  city_tier   age  total_programs_enrolled  \\\n",
       "0        Matriculation          3  24.0                        5   \n",
       "1  High School Diploma          4  26.0                        2   \n",
       "2        Matriculation          1  40.0                        1   \n",
       "3        Matriculation          3   NaN                        4   \n",
       "4  High School Diploma          1  42.0                        2   \n",
       "\n",
       "  is_handicapped  trainee_engagement_rating  is_pass  \n",
       "0              N                        1.0        0  \n",
       "1              N                        3.0        1  \n",
       "2              N                        2.0        1  \n",
       "3              N                        1.0        1  \n",
       "4              N                        4.0        1  "
      ]
     },
     "execution_count": 17,
     "metadata": {},
     "output_type": "execute_result"
    }
   ],
   "source": [
    "train.head()"
   ]
  },
  {
   "cell_type": "code",
   "execution_count": 18,
   "metadata": {},
   "outputs": [
    {
     "name": "stdout",
     "output_type": "stream",
     "text": [
      "High School Diploma    34371\n",
      "Matriculation          26169\n",
      "Bachelors              11581\n",
      "No Qualification         514\n",
      "Masters                  512\n",
      "Name: education, dtype: int64\n"
     ]
    }
   ],
   "source": [
    "# Return the counts of each unique value in the Cabin column\n",
    "print(train['education'].value_counts())\n",
    "\n"
   ]
  },
  {
   "cell_type": "code",
   "execution_count": 19,
   "metadata": {},
   "outputs": [
    {
     "data": {
      "image/png": "[encoded data removed]",
      "text/plain": [
       "<matplotlib.figure.Figure at 0x7f149caff240>"
      ]
     },
     "metadata": {},
     "output_type": "display_data"
    }
   ],
   "source": [
    "fig = plt.figure(figsize = (10,5))\n",
    "# Plot a graph of these values\n",
    "ax = plt.plot()\n",
    "ax = sns.countplot(x = 'education', hue = 'is_pass',data = train)\n",
    "ax.set_title('Passing rate on education')\n",
    "ax.set_ylim(0,30000)\n",
    "ax.set_xlabel('Education')\n",
    "ax.set_ylabel('Success Count')\n",
    "ax.legend(loc = 1)\n",
    "\n",
    "# # Insert data labels onto graph\n",
    "height = [p.get_height() if p.get_height()==p.get_height() else 0 for p in ax.patches]\n",
    "ncol = int(len(height)/2)\n",
    "total = [height[i] + height[i + ncol] for i in range(ncol)] * 2\n",
    "for i, p in enumerate(ax.patches): \n",
    "    ax.text(p.get_x()+ p.get_width()/2, height[i]*1.01 + 30,\n",
    "                '{:1.0%}'.format(height[i]/total[i]), ha=\"left\",va=\"bottom\", size=15)\n",
    "    ax.text(p.get_x()+p.get_width()/2, height[i]*1.01,\n",
    "           '{:.0f}'.format(height[i]), va=\"top\",ha=\"right\", size=14)\n",
    "plt.show()"
   ]
  },
  {
   "cell_type": "code",
   "execution_count": 20,
   "metadata": {},
   "outputs": [
    {
     "data": {
      "image/png": "[encoded data removed]",
      "text/plain": [
       "<matplotlib.figure.Figure at 0x7f149caffcf8>"
      ]
     },
     "metadata": {},
     "output_type": "display_data"
    }
   ],
   "source": [
    "fig = plt.figure(figsize = (10,5))\n",
    "# Plot a graph of these values\n",
    "ax = plt.plot()\n",
    "ax = sns.countplot(x = 'program_type', hue = 'is_pass',data = train)\n",
    "ax.set_title('Passing Rate on basis of different programs')\n",
    "ax.set_ylim(0,17500)\n",
    "ax.set_xlabel('Program_type')\n",
    "ax.set_ylabel('Success Count')\n",
    "ax.legend(loc = 1)\n",
    "\n",
    "# # Insert data labels onto graph\n",
    "height = [p.get_height() if p.get_height()==p.get_height() else 0 for p in ax.patches]\n",
    "ncol = int(len(height)/2)\n",
    "total = [height[i] + height[i + ncol] for i in range(ncol)] * 2\n",
    "for i, p in enumerate(ax.patches): \n",
    "    ax.text(p.get_x()+ p.get_width()/2, height[i]*1.01 + 30,\n",
    "                '{:1.0%}'.format(height[i]/total[i]), ha=\"center\",va=\"bottom\", size=15)\n",
    "#     ax.text(p.get_x()+p.get_width()/2, height[i]*1.01,\n",
    "#            '{:.0f}'.format(height[i]), va=\"top\",ha=\"right\", size=14)\n",
    "plt.show()"
   ]
  },
  {
   "cell_type": "code",
   "execution_count": 21,
   "metadata": {},
   "outputs": [
    {
     "data": {
      "image/png": "[encoded data removed]",
      "text/plain": [
       "<matplotlib.figure.Figure at 0x7f149c8dbb70>"
      ]
     },
     "metadata": {},
     "output_type": "display_data"
    }
   ],
   "source": [
    "fig = plt.figure(figsize = (10,5))\n",
    "# Plot a graph of these values\n",
    "ax = plt.plot()\n",
    "ax = sns.countplot(x = 'test_type', hue = 'is_pass',data = train)\n",
    "ax.set_title('Passing percentage on basis of test type ')\n",
    "ax.set_ylim(0,30000)\n",
    "ax.set_xlabel('test_type')\n",
    "ax.set_ylabel('Success Count')\n",
    "ax.legend(loc = 1)\n",
    "\n",
    "# # Insert data labels onto graph\n",
    "height = [p.get_height() if p.get_height()==p.get_height() else 0 for p in ax.patches]\n",
    "ncol = int(len(height)/2)\n",
    "total = [height[i] + height[i + ncol] for i in range(ncol)] * 2\n",
    "for i, p in enumerate(ax.patches): \n",
    "    ax.text(p.get_x()+ p.get_width()/2, height[i]*1.01 + 30,\n",
    "                '{:1.0%}'.format(height[i]/total[i]), ha=\"center\",va=\"bottom\", size=15)\n",
    "#     ax.text(p.get_x()+p.get_width()/2, height[i]*1.01,\n",
    "#            '{:.0f}'.format(height[i]), va=\"top\",ha=\"right\", size=14)\n",
    "plt.show()"
   ]
  },
  {
   "cell_type": "code",
   "execution_count": 22,
   "metadata": {},
   "outputs": [
    {
     "data": {
      "image/png": "[encoded data removed]",
      "text/plain": [
       "<matplotlib.figure.Figure at 0x7f149c9163c8>"
      ]
     },
     "metadata": {},
     "output_type": "display_data"
    }
   ],
   "source": [
    "fig = plt.figure(figsize = (10,5))\n",
    "# Plot a graph of these values\n",
    "ax = plt.plot()\n",
    "ax = sns.countplot(x = 'gender', hue = 'is_pass',data = train)\n",
    "ax.set_title('Passing percentage on basis of gender')\n",
    "ax.set_ylim(0,30000)\n",
    "ax.set_xlabel('gender')\n",
    "ax.set_ylabel('Success Count')\n",
    "ax.legend(loc = 1)\n",
    "\n",
    "# # Insert data labels onto graph\n",
    "height = [p.get_height() if p.get_height()==p.get_height() else 0 for p in ax.patches]\n",
    "ncol = int(len(height)/2)\n",
    "total = [height[i] + height[i + ncol] for i in range(ncol)] * 2\n",
    "for i, p in enumerate(ax.patches): \n",
    "    ax.text(p.get_x()+ p.get_width()/2, height[i]*1.01 + 30,\n",
    "                '{:1.0%}'.format(height[i]/total[i]), ha=\"center\",va=\"bottom\", size=15)\n",
    "#     ax.text(p.get_x()+p.get_width()/2, height[i]*1.01,\n",
    "#            '{:.0f}'.format(height[i]), va=\"top\",ha=\"right\", size=14)\n",
    "plt.show()"
   ]
  },
  {
   "cell_type": "code",
   "execution_count": 23,
   "metadata": {},
   "outputs": [
    {
     "data": {
      "image/png": "[encoded data removed]",
      "text/plain": [
       "<matplotlib.figure.Figure at 0x7f149cbb7198>"
      ]
     },
     "metadata": {},
     "output_type": "display_data"
    }
   ],
   "source": [
    "fig = plt.figure(figsize = (10,5))\n",
    "# Plot a graph of these values\n",
    "ax = plt.plot()\n",
    "ax = sns.countplot(x = 'difficulty_level', hue = 'is_pass',data = train)\n",
    "ax.set_title('Passing percentage on basis of difficulty level')\n",
    "ax.set_ylim(0,32000)\n",
    "ax.set_xlabel('Difficulty level')\n",
    "ax.set_ylabel('Success Count')\n",
    "ax.legend(loc = 1)\n",
    "\n",
    "# # Insert data labels onto graph\n",
    "height = [p.get_height() if p.get_height()==p.get_height() else 0 for p in ax.patches]\n",
    "ncol = int(len(height)/2)\n",
    "total = [height[i] + height[i + ncol] for i in range(ncol)] * 2\n",
    "for i, p in enumerate(ax.patches): \n",
    "    ax.text(p.get_x()+ p.get_width()/2, height[i]*1.01 + 30,\n",
    "                '{:1.0%}'.format(height[i]/total[i]), ha=\"center\",va=\"bottom\", size=15)\n",
    "#     ax.text(p.get_x()+p.get_width()/2, height[i]*1.01,\n",
    "#            '{:.0f}'.format(height[i]), va=\"top\",ha=\"right\", size=14)\n",
    "plt.show()"
   ]
  },
  {
   "cell_type": "code",
   "execution_count": 24,
   "metadata": {},
   "outputs": [
    {
     "data": {
      "image/png": "[encoded data removed]",
      "text/plain": [
       "<matplotlib.figure.Figure at 0x7f149cb9eb70>"
      ]
     },
     "metadata": {},
     "output_type": "display_data"
    }
   ],
   "source": [
    "fig = plt.figure(figsize = (10,5))\n",
    "# Plot a graph of these values\n",
    "ax = plt.plot()\n",
    "ax = sns.countplot(x = 'is_handicapped', hue = 'is_pass',data = train)\n",
    "ax.set_title('Passing percentage on basis of health')\n",
    "ax.set_ylim(0,50000)\n",
    "ax.set_xlabel('Handicapped')\n",
    "ax.set_ylabel('Success Count')\n",
    "ax.legend(loc = 1)\n",
    "\n",
    "# # Insert data labels onto graph\n",
    "height = [p.get_height() if p.get_height()==p.get_height() else 0 for p in ax.patches]\n",
    "ncol = int(len(height)/2)\n",
    "total = [height[i] + height[i + ncol] for i in range(ncol)] * 2\n",
    "for i, p in enumerate(ax.patches): \n",
    "    ax.text(p.get_x()+ p.get_width()/2, height[i]*1.01 + 30,\n",
    "                '{:1.0%}'.format(height[i]/total[i]), ha=\"center\",va=\"bottom\", size=15)\n",
    "#     ax.text(p.get_x()+p.get_width()/2, height[i]*1.01,\n",
    "#            '{:.0f}'.format(height[i]), va=\"top\",ha=\"right\", size=14)\n",
    "plt.show()"
   ]
  },
  {
   "cell_type": "code",
   "execution_count": 25,
   "metadata": {},
   "outputs": [
    {
     "data": {
      "image/png": "[encoded data removed]",
      "text/plain": [
       "<matplotlib.figure.Figure at 0x7f149cad4160>"
      ]
     },
     "metadata": {},
     "output_type": "display_data"
    }
   ],
   "source": [
    "fig = plt.figure(figsize = (10,5))\n",
    "# Plot a graph of these values\n",
    "ax = plt.plot()\n",
    "ax = sns.countplot(x = 'city_tier', hue = 'is_pass',data = train)\n",
    "ax.set_title('Passing percentage on basis of city_tier')\n",
    "ax.set_ylim(0,20000)\n",
    "ax.set_xlabel('city tier')\n",
    "ax.set_ylabel('Success Count')\n",
    "ax.legend(loc = 1)\n",
    "\n",
    "# # Insert data labels onto graph\n",
    "height = [p.get_height() if p.get_height()==p.get_height() else 0 for p in ax.patches]\n",
    "ncol = int(len(height)/2)\n",
    "total = [height[i] + height[i + ncol] for i in range(ncol)] * 2\n",
    "for i, p in enumerate(ax.patches): \n",
    "    ax.text(p.get_x()+ p.get_width()/2, height[i]*1.01 + 30,\n",
    "                '{:1.0%}'.format(height[i]/total[i]), ha=\"center\",va=\"bottom\", size=15)\n",
    "#     ax.text(p.get_x()+p.get_width()/2, height[i]*1.01,\n",
    "#            '{:.0f}'.format(height[i]), va=\"top\",ha=\"right\", size=14)\n",
    "plt.show()"
   ]
  },
  {
   "cell_type": "code",
   "execution_count": 26,
   "metadata": {},
   "outputs": [
    {
     "data": {
      "image/png": "[encoded data removed]",
      "text/plain": [
       "<matplotlib.figure.Figure at 0x7f149cb52518>"
      ]
     },
     "metadata": {},
     "output_type": "display_data"
    }
   ],
   "source": [
    "fig = plt.figure(figsize = (15,8))\n",
    "# Plot a graph of these values\n",
    "ax = plt.plot()\n",
    "ax = sns.countplot(x = 'total_programs_enrolled', hue = 'is_pass',data = train)\n",
    "ax.set_title('Passing percentage on basis of total programs enrolled ')\n",
    "ax.set_ylim(0,32000)\n",
    "ax.set_xlabel('program enrolled')\n",
    "ax.set_ylabel('Success Count')\n",
    "ax.legend(loc = 1)\n",
    "\n",
    "# # Insert data labels onto graph\n",
    "height = [p.get_height() if p.get_height()==p.get_height() else 0 for p in ax.patches]\n",
    "ncol = int(len(height)/2)\n",
    "total = [height[i] + height[i + ncol] for i in range(ncol)] * 2\n",
    "for i, p in enumerate(ax.patches): \n",
    "    ax.text(p.get_x()+ p.get_width()/2, height[i]*1.01 + 30,\n",
    "                '{:1.0%}'.format(height[i]/total[i]), ha=\"center\",va=\"bottom\", size=11)\n",
    "#     ax.text(p.get_x()+p.get_width()/2, height[i]*1.01,\n",
    "#            '{:.0f}'.format(height[i]), va=\"top\",ha=\"right\", size=14)\n",
    "plt.show()"
   ]
  },
  {
   "cell_type": "markdown",
   "metadata": {},
   "source": [
    "### Label Encoding"
   ]
  },
  {
   "cell_type": "code",
   "execution_count": 27,
   "metadata": {
    "scrolled": true
   },
   "outputs": [
    {
     "name": "stdout",
     "output_type": "stream",
     "text": [
      "<class 'pandas.core.frame.DataFrame'>\n",
      "RangeIndex: 73147 entries, 0 to 73146\n",
      "Data columns (total 12 columns):\n",
      "program_type                 73147 non-null object\n",
      "program_duration             73147 non-null int64\n",
      "test_type                    73147 non-null object\n",
      "difficulty_level             73147 non-null object\n",
      "gender                       73147 non-null object\n",
      "education                    73147 non-null object\n",
      "city_tier                    73147 non-null int64\n",
      "age                          45418 non-null float64\n",
      "total_programs_enrolled      73147 non-null int64\n",
      "is_handicapped               73147 non-null object\n",
      "trainee_engagement_rating    73070 non-null float64\n",
      "is_pass                      73147 non-null int64\n",
      "dtypes: float64(2), int64(4), object(6)\n",
      "memory usage: 6.7+ MB\n"
     ]
    }
   ],
   "source": [
    "train.info()"
   ]
  },
  {
   "cell_type": "code",
   "execution_count": 28,
   "metadata": {},
   "outputs": [
    {
     "data": {
      "text/plain": [
       "array(['M', 'F'], dtype=object)"
      ]
     },
     "execution_count": 28,
     "metadata": {},
     "output_type": "execute_result"
    }
   ],
   "source": [
    "train['gender'].unique()"
   ]
  },
  {
   "cell_type": "code",
   "execution_count": 29,
   "metadata": {
    "collapsed": true
   },
   "outputs": [],
   "source": [
    "sex = {\"M\": 0, \"F\": 1}\n",
    "data = [train, test]\n",
    "\n",
    "for d in data:\n",
    "    d['gender'] = d['gender'].map(sex)"
   ]
  },
  {
   "cell_type": "code",
   "execution_count": 30,
   "metadata": {},
   "outputs": [
    {
     "data": {
      "text/plain": [
       "array(['Matriculation', 'High School Diploma', 'Bachelors', 'Masters',\n",
       "       'No Qualification'], dtype=object)"
      ]
     },
     "execution_count": 30,
     "metadata": {},
     "output_type": "execute_result"
    }
   ],
   "source": [
    "train['education'].unique()"
   ]
  },
  {
   "cell_type": "code",
   "execution_count": 31,
   "metadata": {
    "collapsed": true
   },
   "outputs": [],
   "source": [
    "edu = {\"No Qualification\": 0,\"Matriculation\": 1, \"High School Diploma\": 2, \"Bachelors\": 3,\"Masters\": 4 }\n",
    "for d in data:\n",
    "    d['education'] = d['education'].map(edu)"
   ]
  },
  {
   "cell_type": "code",
   "execution_count": 32,
   "metadata": {},
   "outputs": [
    {
     "data": {
      "text/plain": [
       "array(['offline', 'online'], dtype=object)"
      ]
     },
     "execution_count": 32,
     "metadata": {},
     "output_type": "execute_result"
    }
   ],
   "source": [
    "train['test_type'].unique()"
   ]
  },
  {
   "cell_type": "code",
   "execution_count": 33,
   "metadata": {
    "collapsed": true
   },
   "outputs": [],
   "source": [
    "test_type1 = {\"offline\": 0, \"online\": 1}\n",
    "for d in data:\n",
    "    d['test_type'] = d['test_type'].map(test_type1)"
   ]
  },
  {
   "cell_type": "code",
   "execution_count": 34,
   "metadata": {},
   "outputs": [
    {
     "data": {
      "text/plain": [
       "array(['intermediate', 'easy', 'hard', 'vary hard'], dtype=object)"
      ]
     },
     "execution_count": 34,
     "metadata": {},
     "output_type": "execute_result"
    }
   ],
   "source": [
    "train['difficulty_level'].unique()"
   ]
  },
  {
   "cell_type": "code",
   "execution_count": 35,
   "metadata": {
    "collapsed": true
   },
   "outputs": [],
   "source": [
    "diff = {\"easy\": 0,\"intermediate\": 1, \"hard\": 2,\"vary hard\": 3}\n",
    "for d in data:\n",
    "    d['difficulty_level'] = d['difficulty_level'].map(diff)"
   ]
  },
  {
   "cell_type": "code",
   "execution_count": 36,
   "metadata": {},
   "outputs": [
    {
     "data": {
      "text/plain": [
       "array(['N', 'Y'], dtype=object)"
      ]
     },
     "execution_count": 36,
     "metadata": {},
     "output_type": "execute_result"
    }
   ],
   "source": [
    "train['is_handicapped'].unique()"
   ]
  },
  {
   "cell_type": "code",
   "execution_count": 37,
   "metadata": {
    "collapsed": true
   },
   "outputs": [],
   "source": [
    "hd = {\"N\": 0, \"Y\": 1}\n",
    "for d in data:\n",
    "    d['is_handicapped'] = d['is_handicapped'].map(hd)"
   ]
  },
  {
   "cell_type": "code",
   "execution_count": 38,
   "metadata": {},
   "outputs": [
    {
     "data": {
      "text/plain": [
       "array(['Y', 'T', 'Z', 'V', 'U', 'X', 'S'], dtype=object)"
      ]
     },
     "execution_count": 38,
     "metadata": {},
     "output_type": "execute_result"
    }
   ],
   "source": [
    "train['program_type'].unique()"
   ]
  },
  {
   "cell_type": "code",
   "execution_count": 39,
   "metadata": {
    "collapsed": true
   },
   "outputs": [],
   "source": [
    "pgtype = {\"Y\": 0,\"T\": 1, \"Z\": 2,\"V\": 3,\"U\": 4,\"X\": 5,\"S\": 6}\n",
    "for d in data:\n",
    "    d['program_type'] = d['program_type'].map(pgtype)"
   ]
  },
  {
   "cell_type": "code",
   "execution_count": 40,
   "metadata": {},
   "outputs": [
    {
     "data": {
      "text/html": [
       "<div>\n",
       "<style>\n",
       "    .dataframe thead tr:only-child th {\n",
       "        text-align: right;\n",
       "    }\n",
       "\n",
       "    .dataframe thead th {\n",
       "        text-align: left;\n",
       "    }\n",
       "\n",
       "    .dataframe tbody tr th {\n",
       "        vertical-align: top;\n",
       "    }\n",
       "</style>\n",
       "<table border=\"1\" class=\"dataframe\">\n",
       "  <thead>\n",
       "    <tr style=\"text-align: right;\">\n",
       "      <th></th>\n",
       "      <th>program_type</th>\n",
       "      <th>program_duration</th>\n",
       "      <th>test_type</th>\n",
       "      <th>difficulty_level</th>\n",
       "      <th>gender</th>\n",
       "      <th>education</th>\n",
       "      <th>city_tier</th>\n",
       "      <th>age</th>\n",
       "      <th>total_programs_enrolled</th>\n",
       "      <th>is_handicapped</th>\n",
       "      <th>trainee_engagement_rating</th>\n",
       "      <th>is_pass</th>\n",
       "    </tr>\n",
       "  </thead>\n",
       "  <tbody>\n",
       "    <tr>\n",
       "      <th>0</th>\n",
       "      <td>0</td>\n",
       "      <td>136</td>\n",
       "      <td>0</td>\n",
       "      <td>1</td>\n",
       "      <td>0</td>\n",
       "      <td>1</td>\n",
       "      <td>3</td>\n",
       "      <td>24.0</td>\n",
       "      <td>5</td>\n",
       "      <td>0</td>\n",
       "      <td>1.0</td>\n",
       "      <td>0</td>\n",
       "    </tr>\n",
       "    <tr>\n",
       "      <th>1</th>\n",
       "      <td>1</td>\n",
       "      <td>131</td>\n",
       "      <td>0</td>\n",
       "      <td>0</td>\n",
       "      <td>1</td>\n",
       "      <td>2</td>\n",
       "      <td>4</td>\n",
       "      <td>26.0</td>\n",
       "      <td>2</td>\n",
       "      <td>0</td>\n",
       "      <td>3.0</td>\n",
       "      <td>1</td>\n",
       "    </tr>\n",
       "    <tr>\n",
       "      <th>2</th>\n",
       "      <td>2</td>\n",
       "      <td>120</td>\n",
       "      <td>1</td>\n",
       "      <td>0</td>\n",
       "      <td>0</td>\n",
       "      <td>1</td>\n",
       "      <td>1</td>\n",
       "      <td>40.0</td>\n",
       "      <td>1</td>\n",
       "      <td>0</td>\n",
       "      <td>2.0</td>\n",
       "      <td>1</td>\n",
       "    </tr>\n",
       "    <tr>\n",
       "      <th>3</th>\n",
       "      <td>1</td>\n",
       "      <td>117</td>\n",
       "      <td>0</td>\n",
       "      <td>0</td>\n",
       "      <td>1</td>\n",
       "      <td>1</td>\n",
       "      <td>3</td>\n",
       "      <td>NaN</td>\n",
       "      <td>4</td>\n",
       "      <td>0</td>\n",
       "      <td>1.0</td>\n",
       "      <td>1</td>\n",
       "    </tr>\n",
       "    <tr>\n",
       "      <th>4</th>\n",
       "      <td>3</td>\n",
       "      <td>131</td>\n",
       "      <td>0</td>\n",
       "      <td>1</td>\n",
       "      <td>1</td>\n",
       "      <td>2</td>\n",
       "      <td>1</td>\n",
       "      <td>42.0</td>\n",
       "      <td>2</td>\n",
       "      <td>0</td>\n",
       "      <td>4.0</td>\n",
       "      <td>1</td>\n",
       "    </tr>\n",
       "  </tbody>\n",
       "</table>\n",
       "</div>"
      ],
      "text/plain": [
       "   program_type  program_duration  test_type  difficulty_level  gender  \\\n",
       "0             0               136          0                 1       0   \n",
       "1             1               131          0                 0       1   \n",
       "2             2               120          1                 0       0   \n",
       "3             1               117          0                 0       1   \n",
       "4             3               131          0                 1       1   \n",
       "\n",
       "   education  city_tier   age  total_programs_enrolled  is_handicapped  \\\n",
       "0          1          3  24.0                        5               0   \n",
       "1          2          4  26.0                        2               0   \n",
       "2          1          1  40.0                        1               0   \n",
       "3          1          3   NaN                        4               0   \n",
       "4          2          1  42.0                        2               0   \n",
       "\n",
       "   trainee_engagement_rating  is_pass  \n",
       "0                        1.0        0  \n",
       "1                        3.0        1  \n",
       "2                        2.0        1  \n",
       "3                        1.0        1  \n",
       "4                        4.0        1  "
      ]
     },
     "execution_count": 40,
     "metadata": {},
     "output_type": "execute_result"
    }
   ],
   "source": [
    "train.head()"
   ]
  },
  {
   "cell_type": "code",
   "execution_count": 41,
   "metadata": {},
   "outputs": [
    {
     "name": "stdout",
     "output_type": "stream",
     "text": [
      "program_type                     0\n",
      "program_duration                 0\n",
      "test_type                        0\n",
      "difficulty_level                 0\n",
      "gender                           0\n",
      "education                        0\n",
      "city_tier                        0\n",
      "age                          27729\n",
      "total_programs_enrolled          0\n",
      "is_handicapped                   0\n",
      "trainee_engagement_rating       77\n",
      "is_pass                          0\n",
      "dtype: int64\n"
     ]
    }
   ],
   "source": [
    "print(train.isnull().sum())"
   ]
  },
  {
   "cell_type": "markdown",
   "metadata": {},
   "source": [
    "## Handling Missing value in age by imputing median on the basis of education"
   ]
  },
  {
   "cell_type": "code",
   "execution_count": 42,
   "metadata": {},
   "outputs": [
    {
     "data": {
      "text/plain": [
       "count    273.000000\n",
       "mean      34.073260\n",
       "std        8.610983\n",
       "min       18.000000\n",
       "25%       27.000000\n",
       "50%       30.000000\n",
       "75%       44.000000\n",
       "max       50.000000\n",
       "Name: age, dtype: float64"
      ]
     },
     "execution_count": 42,
     "metadata": {},
     "output_type": "execute_result"
    }
   ],
   "source": [
    "train[train['education'] == 0].age.describe(exclude='NaN')"
   ]
  },
  {
   "cell_type": "code",
   "execution_count": 43,
   "metadata": {},
   "outputs": [
    {
     "data": {
      "image/png": "[encoded data removed]",
      "text/plain": [
       "<matplotlib.figure.Figure at 0x7f149d1ea518>"
      ]
     },
     "metadata": {},
     "output_type": "display_data"
    }
   ],
   "source": [
    "fig = plt.figure(figsize = (15,8))\n",
    "sns.heatmap(train.corr(), annot = True)\n",
    "plt.show()"
   ]
  },
  {
   "cell_type": "code",
   "execution_count": 44,
   "metadata": {},
   "outputs": [
    {
     "data": {
      "text/plain": [
       "array([ 24.,  26.,  40.,  nan,  42.,  29.,  48.,  45.,  28.,  43.,  27.,\n",
       "        32.,  44.,  41.,  23.,  38.,  30.,  46.,  25.,  31.,  34.,  56.,\n",
       "        47.,  33.,  22.,  59.,  49.,  21.,  18.,  35.,  36.,  50.,  55.,\n",
       "        39.,  51.,  20.,  19.,  54.,  58.,  57.,  37.,  52.,  53.,  17.,\n",
       "        63.,  60.])"
      ]
     },
     "execution_count": 44,
     "metadata": {},
     "output_type": "execute_result"
    }
   ],
   "source": [
    "train['age'].unique()"
   ]
  },
  {
   "cell_type": "code",
   "execution_count": 45,
   "metadata": {
    "collapsed": true
   },
   "outputs": [],
   "source": [
    "train['age'] = train.groupby(['education','trainee_engagement_rating'])['age'].apply(lambda x: x.fillna(x.mean()))\n",
    "test['age'] = train.groupby(['education','trainee_engagement_rating'])['age'].apply(lambda x: x.fillna(x.mean()))"
   ]
  },
  {
   "cell_type": "code",
   "execution_count": 46,
   "metadata": {},
   "outputs": [
    {
     "data": {
      "text/plain": [
       "array([ 24.        ,  26.        ,  40.        ,  34.97700454,\n",
       "        42.        ,  29.        ,  48.        ,  45.        ,\n",
       "        37.14456678,  28.        ,  36.76611647,  33.73449371,\n",
       "        40.25140449,  37.48781568,  34.79855372,  43.        ,\n",
       "        27.        ,  32.        ,  35.88515742,  36.31770005,\n",
       "        44.        ,  41.        ,  39.24078091,  23.        ,\n",
       "        38.        ,  38.63362919,  30.        ,  46.        ,\n",
       "        37.96698656,  25.        ,  31.        ,  34.        ,\n",
       "        56.        ,  47.        ,  33.        ,  22.        ,\n",
       "        59.        ,  49.        ,  44.6835443 ,  40.3019802 ,\n",
       "        42.92307692,  21.        ,  18.        ,  35.        ,\n",
       "        43.53058824,  36.        ,  50.        ,  55.        ,\n",
       "        39.        ,  51.        ,  20.        ,  31.83333333,\n",
       "        19.        ,  39.79698709,          nan,  54.        ,\n",
       "        58.        ,  33.52173913,  57.        ,  37.        ,\n",
       "        32.28767123,  37.31506849,  52.        ,  53.        ,\n",
       "        17.        ,  44.60606061,  63.        ,  60.        ,  41.28828829])"
      ]
     },
     "execution_count": 46,
     "metadata": {},
     "output_type": "execute_result"
    }
   ],
   "source": [
    "train['age'].unique()"
   ]
  },
  {
   "cell_type": "code",
   "execution_count": 47,
   "metadata": {},
   "outputs": [
    {
     "data": {
      "text/plain": [
       "program_type                  0\n",
       "program_duration              0\n",
       "test_type                     0\n",
       "difficulty_level              0\n",
       "gender                        0\n",
       "education                     0\n",
       "city_tier                     0\n",
       "age                          77\n",
       "total_programs_enrolled       0\n",
       "is_handicapped                0\n",
       "trainee_engagement_rating    77\n",
       "is_pass                       0\n",
       "dtype: int64"
      ]
     },
     "execution_count": 47,
     "metadata": {},
     "output_type": "execute_result"
    }
   ],
   "source": [
    "train.isnull().sum()"
   ]
  },
  {
   "cell_type": "code",
   "execution_count": 48,
   "metadata": {
    "collapsed": true
   },
   "outputs": [],
   "source": [
    "train = train.dropna(axis = 0)"
   ]
  },
  {
   "cell_type": "code",
   "execution_count": 49,
   "metadata": {},
   "outputs": [
    {
     "data": {
      "text/plain": [
       "program_type                 0\n",
       "program_duration             0\n",
       "test_type                    0\n",
       "difficulty_level             0\n",
       "gender                       0\n",
       "education                    0\n",
       "city_tier                    0\n",
       "age                          0\n",
       "total_programs_enrolled      0\n",
       "is_handicapped               0\n",
       "trainee_engagement_rating    0\n",
       "is_pass                      0\n",
       "dtype: int64"
      ]
     },
     "execution_count": 49,
     "metadata": {},
     "output_type": "execute_result"
    }
   ],
   "source": [
    "train.isnull().sum()"
   ]
  },
  {
   "cell_type": "code",
   "execution_count": 50,
   "metadata": {
    "collapsed": true
   },
   "outputs": [],
   "source": [
    "#  test= test.dropna(axis = 0)\n",
    "test = test.fillna(0)"
   ]
  },
  {
   "cell_type": "code",
   "execution_count": 51,
   "metadata": {},
   "outputs": [
    {
     "data": {
      "text/plain": [
       "id                           0\n",
       "program_id                   0\n",
       "program_type                 0\n",
       "program_duration             0\n",
       "test_id                      0\n",
       "test_type                    0\n",
       "difficulty_level             0\n",
       "trainee_id                   0\n",
       "gender                       0\n",
       "education                    0\n",
       "city_tier                    0\n",
       "age                          0\n",
       "total_programs_enrolled      0\n",
       "is_handicapped               0\n",
       "trainee_engagement_rating    0\n",
       "dtype: int64"
      ]
     },
     "execution_count": 51,
     "metadata": {},
     "output_type": "execute_result"
    }
   ],
   "source": [
    "test.isnull().sum()"
   ]
  },
  {
   "cell_type": "code",
   "execution_count": 52,
   "metadata": {},
   "outputs": [
    {
     "name": "stdout",
     "output_type": "stream",
     "text": [
      "<class 'pandas.core.frame.DataFrame'>\n",
      "Int64Index: 73070 entries, 0 to 73146\n",
      "Data columns (total 12 columns):\n",
      "program_type                 73070 non-null int64\n",
      "program_duration             73070 non-null int64\n",
      "test_type                    73070 non-null int64\n",
      "difficulty_level             73070 non-null int64\n",
      "gender                       73070 non-null int64\n",
      "education                    73070 non-null int64\n",
      "city_tier                    73070 non-null int64\n",
      "age                          73070 non-null float64\n",
      "total_programs_enrolled      73070 non-null int64\n",
      "is_handicapped               73070 non-null int64\n",
      "trainee_engagement_rating    73070 non-null float64\n",
      "is_pass                      73070 non-null int64\n",
      "dtypes: float64(2), int64(10)\n",
      "memory usage: 7.2 MB\n"
     ]
    }
   ],
   "source": [
    "train.info()"
   ]
  },
  {
   "cell_type": "code",
   "execution_count": 53,
   "metadata": {},
   "outputs": [
    {
     "name": "stdout",
     "output_type": "stream",
     "text": [
      "<class 'pandas.core.frame.DataFrame'>\n",
      "RangeIndex: 31349 entries, 0 to 31348\n",
      "Data columns (total 15 columns):\n",
      "id                           31349 non-null object\n",
      "program_id                   31349 non-null object\n",
      "program_type                 31349 non-null int64\n",
      "program_duration             31349 non-null int64\n",
      "test_id                      31349 non-null int64\n",
      "test_type                    31349 non-null int64\n",
      "difficulty_level             31349 non-null int64\n",
      "trainee_id                   31349 non-null int64\n",
      "gender                       31349 non-null int64\n",
      "education                    31349 non-null int64\n",
      "city_tier                    31349 non-null int64\n",
      "age                          31349 non-null float64\n",
      "total_programs_enrolled      31349 non-null int64\n",
      "is_handicapped               31349 non-null int64\n",
      "trainee_engagement_rating    31349 non-null float64\n",
      "dtypes: float64(2), int64(11), object(2)\n",
      "memory usage: 3.6+ MB\n"
     ]
    }
   ],
   "source": [
    "test.info()"
   ]
  },
  {
   "cell_type": "markdown",
   "metadata": {},
   "source": [
    "# ML Models"
   ]
  },
  {
   "cell_type": "code",
   "execution_count": 54,
   "metadata": {},
   "outputs": [
    {
     "data": {
      "text/html": [
       "<div>\n",
       "<style>\n",
       "    .dataframe thead tr:only-child th {\n",
       "        text-align: right;\n",
       "    }\n",
       "\n",
       "    .dataframe thead th {\n",
       "        text-align: left;\n",
       "    }\n",
       "\n",
       "    .dataframe tbody tr th {\n",
       "        vertical-align: top;\n",
       "    }\n",
       "</style>\n",
       "<table border=\"1\" class=\"dataframe\">\n",
       "  <thead>\n",
       "    <tr style=\"text-align: right;\">\n",
       "      <th></th>\n",
       "      <th>program_type</th>\n",
       "      <th>program_duration</th>\n",
       "      <th>test_type</th>\n",
       "      <th>difficulty_level</th>\n",
       "      <th>gender</th>\n",
       "      <th>education</th>\n",
       "      <th>city_tier</th>\n",
       "      <th>age</th>\n",
       "      <th>total_programs_enrolled</th>\n",
       "      <th>is_handicapped</th>\n",
       "      <th>trainee_engagement_rating</th>\n",
       "      <th>is_pass</th>\n",
       "    </tr>\n",
       "  </thead>\n",
       "  <tbody>\n",
       "    <tr>\n",
       "      <th>0</th>\n",
       "      <td>0</td>\n",
       "      <td>136</td>\n",
       "      <td>0</td>\n",
       "      <td>1</td>\n",
       "      <td>0</td>\n",
       "      <td>1</td>\n",
       "      <td>3</td>\n",
       "      <td>24.000000</td>\n",
       "      <td>5</td>\n",
       "      <td>0</td>\n",
       "      <td>1.0</td>\n",
       "      <td>0</td>\n",
       "    </tr>\n",
       "    <tr>\n",
       "      <th>1</th>\n",
       "      <td>1</td>\n",
       "      <td>131</td>\n",
       "      <td>0</td>\n",
       "      <td>0</td>\n",
       "      <td>1</td>\n",
       "      <td>2</td>\n",
       "      <td>4</td>\n",
       "      <td>26.000000</td>\n",
       "      <td>2</td>\n",
       "      <td>0</td>\n",
       "      <td>3.0</td>\n",
       "      <td>1</td>\n",
       "    </tr>\n",
       "    <tr>\n",
       "      <th>2</th>\n",
       "      <td>2</td>\n",
       "      <td>120</td>\n",
       "      <td>1</td>\n",
       "      <td>0</td>\n",
       "      <td>0</td>\n",
       "      <td>1</td>\n",
       "      <td>1</td>\n",
       "      <td>40.000000</td>\n",
       "      <td>1</td>\n",
       "      <td>0</td>\n",
       "      <td>2.0</td>\n",
       "      <td>1</td>\n",
       "    </tr>\n",
       "    <tr>\n",
       "      <th>3</th>\n",
       "      <td>1</td>\n",
       "      <td>117</td>\n",
       "      <td>0</td>\n",
       "      <td>0</td>\n",
       "      <td>1</td>\n",
       "      <td>1</td>\n",
       "      <td>3</td>\n",
       "      <td>34.977005</td>\n",
       "      <td>4</td>\n",
       "      <td>0</td>\n",
       "      <td>1.0</td>\n",
       "      <td>1</td>\n",
       "    </tr>\n",
       "    <tr>\n",
       "      <th>4</th>\n",
       "      <td>3</td>\n",
       "      <td>131</td>\n",
       "      <td>0</td>\n",
       "      <td>1</td>\n",
       "      <td>1</td>\n",
       "      <td>2</td>\n",
       "      <td>1</td>\n",
       "      <td>42.000000</td>\n",
       "      <td>2</td>\n",
       "      <td>0</td>\n",
       "      <td>4.0</td>\n",
       "      <td>1</td>\n",
       "    </tr>\n",
       "  </tbody>\n",
       "</table>\n",
       "</div>"
      ],
      "text/plain": [
       "   program_type  program_duration  test_type  difficulty_level  gender  \\\n",
       "0             0               136          0                 1       0   \n",
       "1             1               131          0                 0       1   \n",
       "2             2               120          1                 0       0   \n",
       "3             1               117          0                 0       1   \n",
       "4             3               131          0                 1       1   \n",
       "\n",
       "   education  city_tier        age  total_programs_enrolled  is_handicapped  \\\n",
       "0          1          3  24.000000                        5               0   \n",
       "1          2          4  26.000000                        2               0   \n",
       "2          1          1  40.000000                        1               0   \n",
       "3          1          3  34.977005                        4               0   \n",
       "4          2          1  42.000000                        2               0   \n",
       "\n",
       "   trainee_engagement_rating  is_pass  \n",
       "0                        1.0        0  \n",
       "1                        3.0        1  \n",
       "2                        2.0        1  \n",
       "3                        1.0        1  \n",
       "4                        4.0        1  "
      ]
     },
     "execution_count": 54,
     "metadata": {},
     "output_type": "execute_result"
    }
   ],
   "source": [
    "train.head()"
   ]
  },
  {
   "cell_type": "code",
   "execution_count": 55,
   "metadata": {
    "collapsed": true
   },
   "outputs": [],
   "source": [
    "X_train = train.drop(\"is_pass\", axis=1)\n",
    "y_train = train[\"is_pass\"]\n",
    "X_test  = test.drop(['id','test_id','program_id','trainee_id'], axis=1).copy()"
   ]
  },
  {
   "cell_type": "code",
   "execution_count": 56,
   "metadata": {},
   "outputs": [
    {
     "data": {
      "text/html": [
       "<div>\n",
       "<style>\n",
       "    .dataframe thead tr:only-child th {\n",
       "        text-align: right;\n",
       "    }\n",
       "\n",
       "    .dataframe thead th {\n",
       "        text-align: left;\n",
       "    }\n",
       "\n",
       "    .dataframe tbody tr th {\n",
       "        vertical-align: top;\n",
       "    }\n",
       "</style>\n",
       "<table border=\"1\" class=\"dataframe\">\n",
       "  <thead>\n",
       "    <tr style=\"text-align: right;\">\n",
       "      <th></th>\n",
       "      <th>program_type</th>\n",
       "      <th>program_duration</th>\n",
       "      <th>test_type</th>\n",
       "      <th>difficulty_level</th>\n",
       "      <th>gender</th>\n",
       "      <th>education</th>\n",
       "      <th>city_tier</th>\n",
       "      <th>age</th>\n",
       "      <th>total_programs_enrolled</th>\n",
       "      <th>is_handicapped</th>\n",
       "      <th>trainee_engagement_rating</th>\n",
       "    </tr>\n",
       "  </thead>\n",
       "  <tbody>\n",
       "    <tr>\n",
       "      <th>0</th>\n",
       "      <td>1</td>\n",
       "      <td>131</td>\n",
       "      <td>0</td>\n",
       "      <td>1</td>\n",
       "      <td>1</td>\n",
       "      <td>1</td>\n",
       "      <td>3</td>\n",
       "      <td>24.000000</td>\n",
       "      <td>2</td>\n",
       "      <td>0</td>\n",
       "      <td>4.0</td>\n",
       "    </tr>\n",
       "    <tr>\n",
       "      <th>1</th>\n",
       "      <td>0</td>\n",
       "      <td>135</td>\n",
       "      <td>1</td>\n",
       "      <td>0</td>\n",
       "      <td>0</td>\n",
       "      <td>3</td>\n",
       "      <td>3</td>\n",
       "      <td>26.000000</td>\n",
       "      <td>4</td>\n",
       "      <td>0</td>\n",
       "      <td>4.0</td>\n",
       "    </tr>\n",
       "    <tr>\n",
       "      <th>2</th>\n",
       "      <td>0</td>\n",
       "      <td>120</td>\n",
       "      <td>1</td>\n",
       "      <td>0</td>\n",
       "      <td>0</td>\n",
       "      <td>1</td>\n",
       "      <td>3</td>\n",
       "      <td>40.000000</td>\n",
       "      <td>2</td>\n",
       "      <td>0</td>\n",
       "      <td>3.0</td>\n",
       "    </tr>\n",
       "    <tr>\n",
       "      <th>3</th>\n",
       "      <td>3</td>\n",
       "      <td>122</td>\n",
       "      <td>0</td>\n",
       "      <td>3</td>\n",
       "      <td>1</td>\n",
       "      <td>2</td>\n",
       "      <td>1</td>\n",
       "      <td>34.977005</td>\n",
       "      <td>2</td>\n",
       "      <td>0</td>\n",
       "      <td>2.0</td>\n",
       "    </tr>\n",
       "    <tr>\n",
       "      <th>4</th>\n",
       "      <td>3</td>\n",
       "      <td>122</td>\n",
       "      <td>0</td>\n",
       "      <td>1</td>\n",
       "      <td>1</td>\n",
       "      <td>1</td>\n",
       "      <td>3</td>\n",
       "      <td>42.000000</td>\n",
       "      <td>2</td>\n",
       "      <td>0</td>\n",
       "      <td>2.0</td>\n",
       "    </tr>\n",
       "  </tbody>\n",
       "</table>\n",
       "</div>"
      ],
      "text/plain": [
       "   program_type  program_duration  test_type  difficulty_level  gender  \\\n",
       "0             1               131          0                 1       1   \n",
       "1             0               135          1                 0       0   \n",
       "2             0               120          1                 0       0   \n",
       "3             3               122          0                 3       1   \n",
       "4             3               122          0                 1       1   \n",
       "\n",
       "   education  city_tier        age  total_programs_enrolled  is_handicapped  \\\n",
       "0          1          3  24.000000                        2               0   \n",
       "1          3          3  26.000000                        4               0   \n",
       "2          1          3  40.000000                        2               0   \n",
       "3          2          1  34.977005                        2               0   \n",
       "4          1          3  42.000000                        2               0   \n",
       "\n",
       "   trainee_engagement_rating  \n",
       "0                        4.0  \n",
       "1                        4.0  \n",
       "2                        3.0  \n",
       "3                        2.0  \n",
       "4                        2.0  "
      ]
     },
     "execution_count": 56,
     "metadata": {},
     "output_type": "execute_result"
    }
   ],
   "source": [
    "X_test.head()"
   ]
  },
  {
   "cell_type": "code",
   "execution_count": 57,
   "metadata": {},
   "outputs": [
    {
     "name": "stdout",
     "output_type": "stream",
     "text": [
      "(73070, 11) (31349, 11) (73070,)\n"
     ]
    }
   ],
   "source": [
    "print(X_train.shape,X_test.shape,y_train.shape)"
   ]
  },
  {
   "cell_type": "markdown",
   "metadata": {},
   "source": [
    "## KNN"
   ]
  },
  {
   "cell_type": "code",
   "execution_count": 58,
   "metadata": {},
   "outputs": [
    {
     "name": "stdout",
     "output_type": "stream",
     "text": [
      "81.24 %\n"
     ]
    }
   ],
   "source": [
    "# Build the pipeline\n",
    "steps = [('scaler', StandardScaler()), ('knn', KNeighborsClassifier(n_neighbors = 3))]\n",
    "pipeline = Pipeline(steps)\n",
    "\n",
    "# Fit the pipeline to the training data\n",
    "knn_scaled_fit = pipeline.fit(X_train, y_train)\n",
    "\n",
    "# Predict using the test data\n",
    "knn_scaled_predict = pipeline.predict(X_test)\n",
    "\n",
    "# Compute and predict model accuracy\n",
    "acc_knn = round(pipeline.score(X_train, y_train) * 100, 2)\n",
    "print(round(acc_knn,2,), \"%\")\n"
   ]
  },
  {
   "cell_type": "code",
   "execution_count": 59,
   "metadata": {},
   "outputs": [
    {
     "name": "stdout",
     "output_type": "stream",
     "text": [
      "81.91 %\n"
     ]
    }
   ],
   "source": [
    "# Testing the same algorithm, but on an unstandardised dataset\n",
    "knn = KNeighborsClassifier(n_neighbors = 3)\n",
    "knn_unscaled_fit = knn.fit(X_train, y_train)\n",
    "knn_unscaled_predict = knn.predict(X_test)\n",
    "acc_knn2 = round(knn.score(X_train, y_train) * 100, 2)\n",
    "print(round(acc_knn2,2,), \"%\")"
   ]
  },
  {
   "cell_type": "markdown",
   "metadata": {},
   "source": [
    "## Logistic Rrgression"
   ]
  },
  {
   "cell_type": "code",
   "execution_count": 60,
   "metadata": {},
   "outputs": [
    {
     "name": "stdout",
     "output_type": "stream",
     "text": [
      "70.81 %\n"
     ]
    }
   ],
   "source": [
    "# Build the pipeline\n",
    "steps = [('scaler', StandardScaler()), ('log', LogisticRegression())]\n",
    "pipeline = Pipeline(steps)\n",
    "\n",
    "# Fit the pipeline to the training data\n",
    "log_scaled_fit = pipeline.fit(X_train, y_train)\n",
    "\n",
    "# Predict using the test data\n",
    "log_scaled_predict = pipeline.predict(X_test)\n",
    "\n",
    "# Compute and predict model accuracy\n",
    "acc_log = round(pipeline.score(X_train, y_train) * 100, 2)\n",
    "print(round(acc_log,2,), \"%\")"
   ]
  },
  {
   "cell_type": "code",
   "execution_count": 61,
   "metadata": {},
   "outputs": [
    {
     "name": "stdout",
     "output_type": "stream",
     "text": [
      "70.85 %\n"
     ]
    }
   ],
   "source": [
    "# Testing the same algorithm, but on an unstandardised dataset\n",
    "log = LogisticRegression()\n",
    "log_unscaled_fit = log.fit(X_train, y_train)\n",
    "log_unscaled_predict = log.predict(X_test)\n",
    "acc_log2 = round(log.score(X_train, y_train) * 100, 2)\n",
    "print(round(acc_log2,2,), \"%\")\n"
   ]
  },
  {
   "cell_type": "markdown",
   "metadata": {},
   "source": [
    "## Random Forest"
   ]
  },
  {
   "cell_type": "code",
   "execution_count": 62,
   "metadata": {},
   "outputs": [
    {
     "name": "stdout",
     "output_type": "stream",
     "text": [
      "86.75 %\n"
     ]
    }
   ],
   "source": [
    "# Build the pipeline\n",
    "steps = [('scaler', StandardScaler()), ('ran', RandomForestClassifier(n_estimators=100))]\n",
    "pipeline = Pipeline(steps)\n",
    "\n",
    "# Fit the pipeline to the training data\n",
    "ran_scaled_fit = pipeline.fit(X_train, y_train)\n",
    "\n",
    "# Predict using the test data\n",
    "ran_scaled_predict = pipeline.predict(X_test)\n",
    "\n",
    "# Compute and predict model accuracy\n",
    "acc_ran = round(pipeline.score(X_train, y_train) * 100, 2)\n",
    "print(round(acc_ran,2,), \"%\")"
   ]
  },
  {
   "cell_type": "code",
   "execution_count": 63,
   "metadata": {},
   "outputs": [
    {
     "name": "stdout",
     "output_type": "stream",
     "text": [
      "86.75 %\n"
     ]
    }
   ],
   "source": [
    "# Testing the same algorithm, but on an unstandardised dataset\n",
    "ran = RandomForestClassifier(n_estimators=100)\n",
    "ran_unscaled_fit = ran.fit(X_train, y_train)\n",
    "ran_unscaled_predict = ran.predict(X_test)\n",
    "acc_ran2 = round(ran.score(X_train, y_train) * 100, 2)\n",
    "print(round(acc_ran2,2,), \"%\")"
   ]
  },
  {
   "cell_type": "markdown",
   "metadata": {},
   "source": [
    "## SVM"
   ]
  },
  {
   "cell_type": "code",
   "execution_count": 64,
   "metadata": {
    "collapsed": true
   },
   "outputs": [],
   "source": [
    "# # Build the pipeline\n",
    "# steps = [('scaler', StandardScaler()), ('svc', SVC())]\n",
    "# pipeline = Pipeline(steps)\n",
    "\n",
    "# # Fit the pipeline to the training data\n",
    "# svc_scaled_fit = pipeline.fit(X_train, y_train)\n",
    "\n",
    "# # Predict using the test data\n",
    "# svc_scaled_predict = pipeline.predict(X_test)\n",
    "\n",
    "# # Compute and predict model accuracy\n",
    "# acc_svc = round(pipeline.score(X_train, y_train) * 100, 2)\n",
    "# print(round(acc_svc,2,), \"%\")"
   ]
  },
  {
   "cell_type": "code",
   "execution_count": 65,
   "metadata": {
    "collapsed": true
   },
   "outputs": [],
   "source": [
    "# Testing the same algorithm, but on an unstandardised dataset\n",
    "# svc = SVC()\n",
    "# svc_unscaled_fit = svc.fit(X_train, y_train)\n",
    "# svc_unscaled_predict = svc.predict(X_test)\n",
    "# acc_svc2 = round(svc.score(X_train, y_train) * 100, 2)\n",
    "# print(round(acc_svc2,2,), \"%\")"
   ]
  },
  {
   "cell_type": "markdown",
   "metadata": {},
   "source": [
    "## Decision Tree"
   ]
  },
  {
   "cell_type": "code",
   "execution_count": 66,
   "metadata": {},
   "outputs": [
    {
     "name": "stdout",
     "output_type": "stream",
     "text": [
      "86.75 %\n"
     ]
    }
   ],
   "source": [
    "# Build the pipeline\n",
    "steps = [('scaler', StandardScaler()), ('tree', DecisionTreeClassifier())]\n",
    "pipeline = Pipeline(steps)\n",
    "\n",
    "# Fit the pipeline to the training data\n",
    "tree_scaled_fit = pipeline.fit(X_train, y_train)\n",
    "\n",
    "# Predict using the test data\n",
    "tree_scaled_predict = pipeline.predict(X_test)\n",
    "\n",
    "# Compute and predict model accuracy\n",
    "acc_tree = round(pipeline.score(X_train, y_train) * 100, 2)\n",
    "print(round(acc_tree,2,), \"%\")\n"
   ]
  },
  {
   "cell_type": "code",
   "execution_count": 67,
   "metadata": {},
   "outputs": [
    {
     "name": "stdout",
     "output_type": "stream",
     "text": [
      "86.75 %\n"
     ]
    }
   ],
   "source": [
    "# Testing the same algorithm, but on an unstandardised dataset\n",
    "tree = DecisionTreeClassifier()\n",
    "tree_unscaled_fit = tree.fit(X_train, y_train)\n",
    "tree_unscaled_predict = tree.predict(X_test)\n",
    "acc_tree2 = round(tree.score(X_train, y_train) * 100, 2)\n",
    "print(round(acc_tree2,2,), \"%\")"
   ]
  },
  {
   "cell_type": "code",
   "execution_count": 68,
   "metadata": {},
   "outputs": [
    {
     "data": {
      "text/html": [
       "<div>\n",
       "<style>\n",
       "    .dataframe thead tr:only-child th {\n",
       "        text-align: right;\n",
       "    }\n",
       "\n",
       "    .dataframe thead th {\n",
       "        text-align: left;\n",
       "    }\n",
       "\n",
       "    .dataframe tbody tr th {\n",
       "        vertical-align: top;\n",
       "    }\n",
       "</style>\n",
       "<table border=\"1\" class=\"dataframe\">\n",
       "  <thead>\n",
       "    <tr style=\"text-align: right;\">\n",
       "      <th></th>\n",
       "      <th>Model</th>\n",
       "    </tr>\n",
       "    <tr>\n",
       "      <th>Score</th>\n",
       "      <th></th>\n",
       "    </tr>\n",
       "  </thead>\n",
       "  <tbody>\n",
       "    <tr>\n",
       "      <th>86.75</th>\n",
       "      <td>Random Forest</td>\n",
       "    </tr>\n",
       "    <tr>\n",
       "      <th>86.75</th>\n",
       "      <td>Decision Tree</td>\n",
       "    </tr>\n",
       "    <tr>\n",
       "      <th>81.24</th>\n",
       "      <td>KNN</td>\n",
       "    </tr>\n",
       "    <tr>\n",
       "      <th>70.85</th>\n",
       "      <td>Logistic Regression</td>\n",
       "    </tr>\n",
       "  </tbody>\n",
       "</table>\n",
       "</div>"
      ],
      "text/plain": [
       "                     Model\n",
       "Score                     \n",
       "86.75        Random Forest\n",
       "86.75        Decision Tree\n",
       "81.24                  KNN\n",
       "70.85  Logistic Regression"
      ]
     },
     "execution_count": 68,
     "metadata": {},
     "output_type": "execute_result"
    }
   ],
   "source": [
    "# Creating a table of results, ranked highest to lowest\n",
    "results = pd.DataFrame({\n",
    "    'Model': ['KNN', 'Logistic Regression', \n",
    "              'Random Forest', \n",
    "              'Decision Tree'],\n",
    "    'Score': [acc_knn, acc_log2, \n",
    "              acc_ran, acc_tree]})\n",
    "result_df = results.sort_values(by='Score', ascending=False)\n",
    "result_df = result_df.set_index('Score')\n",
    "result_df.head()"
   ]
  },
  {
   "cell_type": "markdown",
   "metadata": {},
   "source": [
    "## K- fold Cross validation"
   ]
  },
  {
   "cell_type": "code",
   "execution_count": 69,
   "metadata": {
    "collapsed": true
   },
   "outputs": [],
   "source": [
    "Random_Forest = RandomForestClassifier(n_estimators=100)\n",
    "scores = cross_val_score(Random_Forest, X_train, y_train, cv=10, scoring = \"accuracy\")"
   ]
  },
  {
   "cell_type": "code",
   "execution_count": 70,
   "metadata": {},
   "outputs": [
    {
     "name": "stdout",
     "output_type": "stream",
     "text": [
      "Scores: [ 0.72961138  0.72642671  0.73203777  0.73190092  0.73039551  0.73231148\n",
      "  0.72752155  0.73819625  0.7219105   0.73063236]\n",
      "Mean: 0.730094443971\n",
      "Standard Deviation: 0.00406517799823\n"
     ]
    }
   ],
   "source": [
    "print(\"Scores:\", scores)\n",
    "print(\"Mean:\", scores.mean())\n",
    "print(\"Standard Deviation:\", scores.std())"
   ]
  },
  {
   "cell_type": "code",
   "execution_count": 71,
   "metadata": {},
   "outputs": [
    {
     "data": {
      "text/html": [
       "<div>\n",
       "<style>\n",
       "    .dataframe thead tr:only-child th {\n",
       "        text-align: right;\n",
       "    }\n",
       "\n",
       "    .dataframe thead th {\n",
       "        text-align: left;\n",
       "    }\n",
       "\n",
       "    .dataframe tbody tr th {\n",
       "        vertical-align: top;\n",
       "    }\n",
       "</style>\n",
       "<table border=\"1\" class=\"dataframe\">\n",
       "  <thead>\n",
       "    <tr style=\"text-align: right;\">\n",
       "      <th></th>\n",
       "      <th>Importance</th>\n",
       "    </tr>\n",
       "    <tr>\n",
       "      <th>Feature</th>\n",
       "      <th></th>\n",
       "    </tr>\n",
       "  </thead>\n",
       "  <tbody>\n",
       "    <tr>\n",
       "      <th>age</th>\n",
       "      <td>0.324</td>\n",
       "    </tr>\n",
       "    <tr>\n",
       "      <th>total_programs_enrolled</th>\n",
       "      <td>0.115</td>\n",
       "    </tr>\n",
       "    <tr>\n",
       "      <th>city_tier</th>\n",
       "      <td>0.100</td>\n",
       "    </tr>\n",
       "    <tr>\n",
       "      <th>program_duration</th>\n",
       "      <td>0.099</td>\n",
       "    </tr>\n",
       "    <tr>\n",
       "      <th>trainee_engagement_rating</th>\n",
       "      <td>0.088</td>\n",
       "    </tr>\n",
       "    <tr>\n",
       "      <th>program_type</th>\n",
       "      <td>0.064</td>\n",
       "    </tr>\n",
       "    <tr>\n",
       "      <th>difficulty_level</th>\n",
       "      <td>0.055</td>\n",
       "    </tr>\n",
       "    <tr>\n",
       "      <th>education</th>\n",
       "      <td>0.055</td>\n",
       "    </tr>\n",
       "    <tr>\n",
       "      <th>gender</th>\n",
       "      <td>0.037</td>\n",
       "    </tr>\n",
       "    <tr>\n",
       "      <th>test_type</th>\n",
       "      <td>0.036</td>\n",
       "    </tr>\n",
       "    <tr>\n",
       "      <th>is_handicapped</th>\n",
       "      <td>0.027</td>\n",
       "    </tr>\n",
       "  </tbody>\n",
       "</table>\n",
       "</div>"
      ],
      "text/plain": [
       "                           Importance\n",
       "Feature                              \n",
       "age                             0.324\n",
       "total_programs_enrolled         0.115\n",
       "city_tier                       0.100\n",
       "program_duration                0.099\n",
       "trainee_engagement_rating       0.088\n",
       "program_type                    0.064\n",
       "difficulty_level                0.055\n",
       "education                       0.055\n",
       "gender                          0.037\n",
       "test_type                       0.036\n",
       "is_handicapped                  0.027"
      ]
     },
     "execution_count": 71,
     "metadata": {},
     "output_type": "execute_result"
    }
   ],
   "source": [
    "# Building feature importance into a DataFrame\n",
    "Importance = pd.DataFrame({'Feature':X_train.columns,'Importance':np.round(ran.feature_importances_,3)})\n",
    "Importance = Importance.sort_values('Importance',ascending=False).set_index('Feature')\n",
    "\n",
    "#Printing DataFrame\n",
    "Importance"
   ]
  },
  {
   "cell_type": "code",
   "execution_count": 72,
   "metadata": {},
   "outputs": [
    {
     "data": {
      "image/png": "[encoded data removed]",
      "text/plain": [
       "<matplotlib.figure.Figure at 0x7f149d17d080>"
      ]
     },
     "metadata": {},
     "output_type": "display_data"
    }
   ],
   "source": [
    "Importance.plot.bar()\n",
    "plt.show()"
   ]
  },
  {
   "cell_type": "code",
   "execution_count": 73,
   "metadata": {
    "collapsed": true
   },
   "outputs": [],
   "source": [
    "# train = train.drop([\"gender\",\"is_handicapped\"], axis=1)\n",
    "# test = test.drop([\"gender\",\"is_handicapped\"], axis=1)"
   ]
  },
  {
   "cell_type": "code",
   "execution_count": 74,
   "metadata": {
    "collapsed": true
   },
   "outputs": [],
   "source": [
    "# X_train = train.drop(\"is_pass\", axis=1)\n",
    "# y_train = train[\"is_pass\"]\n",
    "# X_test  = test.drop(['id','test_id','program_id','trainee_id'], axis=1).copy()"
   ]
  },
  {
   "cell_type": "code",
   "execution_count": 75,
   "metadata": {
    "collapsed": true
   },
   "outputs": [],
   "source": [
    "# # Build the pipeline\n",
    "# steps = [('scaler', StandardScaler()), ('ran', RandomForestClassifier(n_estimators=100))]\n",
    "# pipeline = Pipeline(steps)\n",
    "\n",
    "# # Fit the pipeline to the training data\n",
    "# ran_scaled_fit = pipeline.fit(X_train, y_train)\n",
    "\n",
    "# # Predict using the test data\n",
    "# ran_scaled_predict = pipeline.predict(X_test)\n",
    "\n",
    "# # Compute and predict model accuracy\n",
    "# acc_ran = round(pipeline.score(X_train, y_train) * 100, 2)\n",
    "# print(round(acc_ran,2,), \"%\")\n",
    "\n",
    "#Result was 84.61"
   ]
  },
  {
   "cell_type": "code",
   "execution_count": 76,
   "metadata": {
    "collapsed": true
   },
   "outputs": [],
   "source": [
    "# # Build a RandomForestClassifier\n",
    "# clf = RandomForestClassifier(n_estimators=100)\n",
    "\n",
    "\n",
    "# # A new function to allowing reporting of the best scores\n",
    "# def report(results, n_top=10):\n",
    "#     for i in range(1, n_top + 1):\n",
    "#         candidates = np.flatnonzero(results['rank_test_score'] == i)\n",
    "#         for candidate in candidates:\n",
    "#             print(\"Model with rank: {0}\".format(i))\n",
    "#             print(\"Mean validation score: {0:.3f} (std: {1:.3f})\".format(\n",
    "#                   results['mean_test_score'][candidate],\n",
    "#                   results['std_test_score'][candidate]))\n",
    "#             print(\"Parameters: {0}\".format(results['params'][candidate]))\n",
    "#             print(\"\")\n",
    "\n",
    "\n",
    "# # Specify the parameters and distributions to sample from\n",
    "# param_dist = {\"max_depth\": [3, None],\n",
    "#               \"max_features\": sp_randint(1, 11),\n",
    "#               \"min_samples_split\": sp_randint(2, 11),\n",
    "#               \"min_samples_leaf\": sp_randint(1, 11),\n",
    "#               \"bootstrap\": [True, False],\n",
    "#               \"criterion\": [\"gini\", \"entropy\"]}\n",
    "\n",
    "# # Performed the RandomizedSearchCV\n",
    "# n_iter_search = 20\n",
    "# random_search = RandomizedSearchCV(clf, param_distributions=param_dist,\n",
    "#                                    n_iter=n_iter_search)\n",
    "\n",
    "# # Print the results with the report function\n",
    "# start = time()\n",
    "# random_search.fit(X_train, y_train)\n",
    "# print(\"RandomizedSearchCV took %.2f seconds for %d candidates\"\n",
    "#       \" parameter settings.\" % ((time() - start), n_iter_search))\n",
    "# report(random_search.cv_results_)"
   ]
  },
  {
   "cell_type": "code",
   "execution_count": 77,
   "metadata": {
    "collapsed": true
   },
   "outputs": [],
   "source": [
    "# # Build the pipeline\n",
    "# steps = [('scaler', StandardScaler()), ('ran', RandomForestClassifier(n_estimators=100, \n",
    "#                                                                       bootstrap=False, \n",
    "#                                                                       criterion='gini', \n",
    "#                                                                       max_depth=None, \n",
    "#                                                                       max_features=1, \n",
    "#                                                                       min_samples_leaf=3, \n",
    "#                                                                       min_samples_split=5))]\n",
    "                                                                    \n",
    "# pipeline = Pipeline(steps)\n",
    "\n",
    "# # Fit the pipeline to the training data\n",
    "# ran1_scaled_fit = pipeline.fit(X_train, y_train)\n",
    "\n",
    "# # Predict using the test data\n",
    "# ran1_scaled_predict = pipeline.predict(X_test)\n",
    "\n",
    "# # Compute and predict model accuracy\n",
    "# acc_ran1 = round(pipeline.score(X_train, y_train) * 100, 2)\n",
    "# print(round(acc_ran1,2,), \"%\")"
   ]
  },
  {
   "cell_type": "code",
   "execution_count": 78,
   "metadata": {
    "collapsed": true
   },
   "outputs": [],
   "source": [
    "# # Preparing the dataset for submission\n",
    "# submission = pd.DataFrame({\n",
    "#         \"id\": test[\"id\"],\n",
    "#         \"is_pass\": ran_scaled_predict})\n",
    "# submission.to_csv('submission3.csv', index=False)"
   ]
  },
  {
   "cell_type": "code",
   "execution_count": 79,
   "metadata": {
    "collapsed": true
   },
   "outputs": [],
   "source": [
    "# subna = pd.read_csv('submission_nan.csv')\n",
    "# subna.info()"
   ]
  },
  {
   "cell_type": "code",
   "execution_count": 80,
   "metadata": {},
   "outputs": [
    {
     "data": {
      "text/plain": [
       "array([[ 9922, 12319],\n",
       "       [ 8077, 42752]])"
      ]
     },
     "execution_count": 80,
     "metadata": {},
     "output_type": "execute_result"
    }
   ],
   "source": [
    "# Computing the confusion matrix\n",
    "predictions = cross_val_predict(ran, X_train, y_train, cv=3)\n",
    "confusion_matrix(y_train, predictions)"
   ]
  },
  {
   "cell_type": "code",
   "execution_count": 81,
   "metadata": {},
   "outputs": [
    {
     "name": "stdout",
     "output_type": "stream",
     "text": [
      "Precision: 0.776306949211\n",
      "Recall: 0.841094650692\n"
     ]
    }
   ],
   "source": [
    "# Computing model precision and recall\n",
    "print(\"Precision:\", precision_score(y_train, predictions))\n",
    "print(\"Recall:\",recall_score(y_train, predictions))"
   ]
  },
  {
   "cell_type": "code",
   "execution_count": 82,
   "metadata": {},
   "outputs": [
    {
     "data": {
      "text/plain": [
       "0.80740321057601505"
      ]
     },
     "execution_count": 82,
     "metadata": {},
     "output_type": "execute_result"
    }
   ],
   "source": [
    "# Calculating the F1 score\n",
    "f1_score(y_train, predictions)"
   ]
  },
  {
   "cell_type": "code",
   "execution_count": 83,
   "metadata": {
    "collapsed": true
   },
   "outputs": [],
   "source": [
    "# Getting prediction probabilities\n",
    "y_scores = ran.predict_proba(X_train)\n",
    "y_scores = y_scores[:,1]\n",
    "\n",
    "precision, recall, threshold = precision_recall_curve(y_train, y_scores)"
   ]
  },
  {
   "cell_type": "code",
   "execution_count": 84,
   "metadata": {
    "collapsed": true
   },
   "outputs": [],
   "source": [
    "# Compute the true positive and false positive rate\n",
    "false_positive_rate, true_positive_rate, thresholds = roc_curve(y_train, y_scores)"
   ]
  },
  {
   "cell_type": "code",
   "execution_count": 85,
   "metadata": {},
   "outputs": [
    {
     "name": "stdout",
     "output_type": "stream",
     "text": [
      "ROC-AUC-Score: 0.942248490311\n"
     ]
    }
   ],
   "source": [
    "# Computing the ROC-AUC score\n",
    "r_a_score = roc_auc_score(y_train, y_scores)\n",
    "print(\"ROC-AUC-Score:\", r_a_score)"
   ]
  }
 ],
 "metadata": {
  "kernelspec": {
   "display_name": "Python 3",
   "language": "python",
   "name": "python3"
  },
  "language_info": {
   "codemirror_mode": {
    "name": "ipython",
    "version": 3
   },
   "file_extension": ".py",
   "mimetype": "text/x-python",
   "name": "python",
   "nbconvert_exporter": "python",
   "pygments_lexer": "ipython3",
   "version": "3.6.1"
  }
 },
 "nbformat": 4,
 "nbformat_minor": 2
}
